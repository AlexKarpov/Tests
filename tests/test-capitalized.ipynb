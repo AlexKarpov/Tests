{
 "cells": [
  {
   "cell_type": "code",
   "execution_count": null,
   "metadata": {},
   "outputs": [],
   "source": [
    "from capitalize import capitalize\n",
    "\n",
    "if capitalize('hello') != 'Hello':\n",
    "    raise Exception('Функция работает неверно!')\n",
    "\n",
    "if capitalize('') != '':\n",
    "    raise Exception('Функция работает неверно!')\n",
    "\n",
    "print('Все тесты пройдены!')"
   ]
  }
 ],
 "metadata": {
  "language_info": {
   "name": "python"
  },
  "orig_nbformat": 4
 },
 "nbformat": 4,
 "nbformat_minor": 2
}
