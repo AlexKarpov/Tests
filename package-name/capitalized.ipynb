{
 "cells": [
  {
   "cell_type": "code",
   "execution_count": null,
   "metadata": {},
   "outputs": [],
   "source": [
    "def capitalize(text):\n",
    "    if text == '':\n",
    "        return ''\n",
    "    first_char = text[0].upper()\n",
    "    rest_substring = text[1:]\n",
    "    return f'{first_char}{rest_substring}'"
   ]
  }
 ],
 "metadata": {
  "language_info": {
   "name": "python"
  },
  "orig_nbformat": 4
 },
 "nbformat": 4,
 "nbformat_minor": 2
}
